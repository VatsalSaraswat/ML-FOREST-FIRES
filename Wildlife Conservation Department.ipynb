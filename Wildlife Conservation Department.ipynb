{
 "cells": [
  {
   "cell_type": "markdown",
   "id": "ffa960e3",
   "metadata": {},
   "source": [
    "# FOREST FIRES PREDICTOR"
   ]
  },
  {
   "cell_type": "code",
   "execution_count": 1,
   "id": "4352ff74",
   "metadata": {},
   "outputs": [],
   "source": [
    "import pandas as pd"
   ]
  },
  {
   "cell_type": "code",
   "execution_count": 2,
   "id": "afa2600b",
   "metadata": {},
   "outputs": [],
   "source": [
    "ff=pd.read_csv(\"forestfiresdata.csv\")"
   ]
  },
  {
   "cell_type": "code",
   "execution_count": 3,
   "id": "ce7525c8",
   "metadata": {},
   "outputs": [
    {
     "data": {
      "text/html": [
       "<div>\n",
       "<style scoped>\n",
       "    .dataframe tbody tr th:only-of-type {\n",
       "        vertical-align: middle;\n",
       "    }\n",
       "\n",
       "    .dataframe tbody tr th {\n",
       "        vertical-align: top;\n",
       "    }\n",
       "\n",
       "    .dataframe thead th {\n",
       "        text-align: right;\n",
       "    }\n",
       "</style>\n",
       "<table border=\"1\" class=\"dataframe\">\n",
       "  <thead>\n",
       "    <tr style=\"text-align: right;\">\n",
       "      <th></th>\n",
       "      <th>X</th>\n",
       "      <th>Y</th>\n",
       "      <th>month</th>\n",
       "      <th>day</th>\n",
       "      <th>FFMC</th>\n",
       "      <th>DMC</th>\n",
       "      <th>DC</th>\n",
       "      <th>ISI</th>\n",
       "      <th>temp</th>\n",
       "      <th>RH</th>\n",
       "      <th>wind</th>\n",
       "      <th>rain</th>\n",
       "      <th>area</th>\n",
       "    </tr>\n",
       "  </thead>\n",
       "  <tbody>\n",
       "    <tr>\n",
       "      <th>0</th>\n",
       "      <td>7</td>\n",
       "      <td>5</td>\n",
       "      <td>mar</td>\n",
       "      <td>fri</td>\n",
       "      <td>86.2</td>\n",
       "      <td>26.2</td>\n",
       "      <td>94.3</td>\n",
       "      <td>5.1</td>\n",
       "      <td>8.2</td>\n",
       "      <td>51.0</td>\n",
       "      <td>6.7</td>\n",
       "      <td>0.0</td>\n",
       "      <td>0.0</td>\n",
       "    </tr>\n",
       "    <tr>\n",
       "      <th>1</th>\n",
       "      <td>7</td>\n",
       "      <td>4</td>\n",
       "      <td>oct</td>\n",
       "      <td>tue</td>\n",
       "      <td>90.6</td>\n",
       "      <td>35.4</td>\n",
       "      <td>669.1</td>\n",
       "      <td>6.7</td>\n",
       "      <td>18.0</td>\n",
       "      <td>33.0</td>\n",
       "      <td>0.9</td>\n",
       "      <td>0.0</td>\n",
       "      <td>0.0</td>\n",
       "    </tr>\n",
       "    <tr>\n",
       "      <th>2</th>\n",
       "      <td>7</td>\n",
       "      <td>4</td>\n",
       "      <td>oct</td>\n",
       "      <td>sat</td>\n",
       "      <td>90.6</td>\n",
       "      <td>43.7</td>\n",
       "      <td>686.9</td>\n",
       "      <td>6.7</td>\n",
       "      <td>14.6</td>\n",
       "      <td>33.0</td>\n",
       "      <td>1.3</td>\n",
       "      <td>0.0</td>\n",
       "      <td>0.0</td>\n",
       "    </tr>\n",
       "    <tr>\n",
       "      <th>3</th>\n",
       "      <td>8</td>\n",
       "      <td>6</td>\n",
       "      <td>mar</td>\n",
       "      <td>fri</td>\n",
       "      <td>91.7</td>\n",
       "      <td>33.3</td>\n",
       "      <td>77.5</td>\n",
       "      <td>9.0</td>\n",
       "      <td>8.3</td>\n",
       "      <td>97.0</td>\n",
       "      <td>4.0</td>\n",
       "      <td>0.2</td>\n",
       "      <td>0.0</td>\n",
       "    </tr>\n",
       "    <tr>\n",
       "      <th>4</th>\n",
       "      <td>8</td>\n",
       "      <td>6</td>\n",
       "      <td>mar</td>\n",
       "      <td>sun</td>\n",
       "      <td>89.3</td>\n",
       "      <td>51.3</td>\n",
       "      <td>102.2</td>\n",
       "      <td>9.6</td>\n",
       "      <td>11.4</td>\n",
       "      <td>99.0</td>\n",
       "      <td>1.8</td>\n",
       "      <td>0.0</td>\n",
       "      <td>0.0</td>\n",
       "    </tr>\n",
       "  </tbody>\n",
       "</table>\n",
       "</div>"
      ],
      "text/plain": [
       "   X  Y month  day  FFMC   DMC     DC  ISI  temp    RH  wind  rain  area\n",
       "0  7  5   mar  fri  86.2  26.2   94.3  5.1   8.2  51.0   6.7   0.0   0.0\n",
       "1  7  4   oct  tue  90.6  35.4  669.1  6.7  18.0  33.0   0.9   0.0   0.0\n",
       "2  7  4   oct  sat  90.6  43.7  686.9  6.7  14.6  33.0   1.3   0.0   0.0\n",
       "3  8  6   mar  fri  91.7  33.3   77.5  9.0   8.3  97.0   4.0   0.2   0.0\n",
       "4  8  6   mar  sun  89.3  51.3  102.2  9.6  11.4  99.0   1.8   0.0   0.0"
      ]
     },
     "execution_count": 3,
     "metadata": {},
     "output_type": "execute_result"
    }
   ],
   "source": [
    "ff.head()"
   ]
  },
  {
   "cell_type": "code",
   "execution_count": 4,
   "id": "f6cbbba2",
   "metadata": {},
   "outputs": [
    {
     "name": "stdout",
     "output_type": "stream",
     "text": [
      "<class 'pandas.core.frame.DataFrame'>\n",
      "RangeIndex: 517 entries, 0 to 516\n",
      "Data columns (total 13 columns):\n",
      " #   Column  Non-Null Count  Dtype  \n",
      "---  ------  --------------  -----  \n",
      " 0   X       517 non-null    int64  \n",
      " 1   Y       517 non-null    int64  \n",
      " 2   month   517 non-null    object \n",
      " 3   day     517 non-null    object \n",
      " 4   FFMC    517 non-null    float64\n",
      " 5   DMC     517 non-null    float64\n",
      " 6   DC      517 non-null    float64\n",
      " 7   ISI     517 non-null    float64\n",
      " 8   temp    517 non-null    float64\n",
      " 9   RH      513 non-null    float64\n",
      " 10  wind    517 non-null    float64\n",
      " 11  rain    517 non-null    float64\n",
      " 12  area    517 non-null    float64\n",
      "dtypes: float64(9), int64(2), object(2)\n",
      "memory usage: 52.6+ KB\n"
     ]
    }
   ],
   "source": [
    "ff.info()"
   ]
  },
  {
   "cell_type": "code",
   "execution_count": 5,
   "id": "eb7d66a0",
   "metadata": {},
   "outputs": [
    {
     "data": {
      "text/plain": [
       "3.1    53\n",
       "2.2    53\n",
       "4.0    51\n",
       "4.9    48\n",
       "2.7    44\n",
       "5.4    41\n",
       "4.5    41\n",
       "3.6    40\n",
       "1.8    31\n",
       "5.8    24\n",
       "6.3    19\n",
       "1.3    14\n",
       "7.6    14\n",
       "0.9    13\n",
       "8.5     8\n",
       "6.7     8\n",
       "8.0     5\n",
       "7.2     4\n",
       "9.4     4\n",
       "8.9     1\n",
       "0.4     1\n",
       "Name: wind, dtype: int64"
      ]
     },
     "execution_count": 5,
     "metadata": {},
     "output_type": "execute_result"
    }
   ],
   "source": [
    "ff['wind'].value_counts()"
   ]
  },
  {
   "cell_type": "code",
   "execution_count": 6,
   "id": "61f42004",
   "metadata": {},
   "outputs": [
    {
     "data": {
      "text/html": [
       "<div>\n",
       "<style scoped>\n",
       "    .dataframe tbody tr th:only-of-type {\n",
       "        vertical-align: middle;\n",
       "    }\n",
       "\n",
       "    .dataframe tbody tr th {\n",
       "        vertical-align: top;\n",
       "    }\n",
       "\n",
       "    .dataframe thead th {\n",
       "        text-align: right;\n",
       "    }\n",
       "</style>\n",
       "<table border=\"1\" class=\"dataframe\">\n",
       "  <thead>\n",
       "    <tr style=\"text-align: right;\">\n",
       "      <th></th>\n",
       "      <th>X</th>\n",
       "      <th>Y</th>\n",
       "      <th>FFMC</th>\n",
       "      <th>DMC</th>\n",
       "      <th>DC</th>\n",
       "      <th>ISI</th>\n",
       "      <th>temp</th>\n",
       "      <th>RH</th>\n",
       "      <th>wind</th>\n",
       "      <th>rain</th>\n",
       "      <th>area</th>\n",
       "    </tr>\n",
       "  </thead>\n",
       "  <tbody>\n",
       "    <tr>\n",
       "      <th>count</th>\n",
       "      <td>517.000000</td>\n",
       "      <td>517.000000</td>\n",
       "      <td>517.000000</td>\n",
       "      <td>517.000000</td>\n",
       "      <td>517.000000</td>\n",
       "      <td>517.000000</td>\n",
       "      <td>517.000000</td>\n",
       "      <td>513.000000</td>\n",
       "      <td>517.000000</td>\n",
       "      <td>517.000000</td>\n",
       "      <td>517.000000</td>\n",
       "    </tr>\n",
       "    <tr>\n",
       "      <th>mean</th>\n",
       "      <td>4.669246</td>\n",
       "      <td>4.299807</td>\n",
       "      <td>90.644681</td>\n",
       "      <td>110.872340</td>\n",
       "      <td>547.940039</td>\n",
       "      <td>9.021663</td>\n",
       "      <td>18.889168</td>\n",
       "      <td>44.296296</td>\n",
       "      <td>4.017602</td>\n",
       "      <td>0.021663</td>\n",
       "      <td>12.847292</td>\n",
       "    </tr>\n",
       "    <tr>\n",
       "      <th>std</th>\n",
       "      <td>2.313778</td>\n",
       "      <td>1.229900</td>\n",
       "      <td>5.520111</td>\n",
       "      <td>64.046482</td>\n",
       "      <td>248.066192</td>\n",
       "      <td>4.559477</td>\n",
       "      <td>5.806625</td>\n",
       "      <td>16.318304</td>\n",
       "      <td>1.791653</td>\n",
       "      <td>0.295959</td>\n",
       "      <td>63.655818</td>\n",
       "    </tr>\n",
       "    <tr>\n",
       "      <th>min</th>\n",
       "      <td>1.000000</td>\n",
       "      <td>2.000000</td>\n",
       "      <td>18.700000</td>\n",
       "      <td>1.100000</td>\n",
       "      <td>7.900000</td>\n",
       "      <td>0.000000</td>\n",
       "      <td>2.200000</td>\n",
       "      <td>15.000000</td>\n",
       "      <td>0.400000</td>\n",
       "      <td>0.000000</td>\n",
       "      <td>0.000000</td>\n",
       "    </tr>\n",
       "    <tr>\n",
       "      <th>25%</th>\n",
       "      <td>3.000000</td>\n",
       "      <td>4.000000</td>\n",
       "      <td>90.200000</td>\n",
       "      <td>68.600000</td>\n",
       "      <td>437.700000</td>\n",
       "      <td>6.500000</td>\n",
       "      <td>15.500000</td>\n",
       "      <td>33.000000</td>\n",
       "      <td>2.700000</td>\n",
       "      <td>0.000000</td>\n",
       "      <td>0.000000</td>\n",
       "    </tr>\n",
       "    <tr>\n",
       "      <th>50%</th>\n",
       "      <td>4.000000</td>\n",
       "      <td>4.000000</td>\n",
       "      <td>91.600000</td>\n",
       "      <td>108.300000</td>\n",
       "      <td>664.200000</td>\n",
       "      <td>8.400000</td>\n",
       "      <td>19.300000</td>\n",
       "      <td>42.000000</td>\n",
       "      <td>4.000000</td>\n",
       "      <td>0.000000</td>\n",
       "      <td>0.520000</td>\n",
       "    </tr>\n",
       "    <tr>\n",
       "      <th>75%</th>\n",
       "      <td>7.000000</td>\n",
       "      <td>5.000000</td>\n",
       "      <td>92.900000</td>\n",
       "      <td>142.400000</td>\n",
       "      <td>713.900000</td>\n",
       "      <td>10.800000</td>\n",
       "      <td>22.800000</td>\n",
       "      <td>53.000000</td>\n",
       "      <td>4.900000</td>\n",
       "      <td>0.000000</td>\n",
       "      <td>6.570000</td>\n",
       "    </tr>\n",
       "    <tr>\n",
       "      <th>max</th>\n",
       "      <td>9.000000</td>\n",
       "      <td>9.000000</td>\n",
       "      <td>96.200000</td>\n",
       "      <td>291.300000</td>\n",
       "      <td>860.600000</td>\n",
       "      <td>56.100000</td>\n",
       "      <td>33.300000</td>\n",
       "      <td>100.000000</td>\n",
       "      <td>9.400000</td>\n",
       "      <td>6.400000</td>\n",
       "      <td>1090.840000</td>\n",
       "    </tr>\n",
       "  </tbody>\n",
       "</table>\n",
       "</div>"
      ],
      "text/plain": [
       "                X           Y        FFMC         DMC          DC         ISI  \\\n",
       "count  517.000000  517.000000  517.000000  517.000000  517.000000  517.000000   \n",
       "mean     4.669246    4.299807   90.644681  110.872340  547.940039    9.021663   \n",
       "std      2.313778    1.229900    5.520111   64.046482  248.066192    4.559477   \n",
       "min      1.000000    2.000000   18.700000    1.100000    7.900000    0.000000   \n",
       "25%      3.000000    4.000000   90.200000   68.600000  437.700000    6.500000   \n",
       "50%      4.000000    4.000000   91.600000  108.300000  664.200000    8.400000   \n",
       "75%      7.000000    5.000000   92.900000  142.400000  713.900000   10.800000   \n",
       "max      9.000000    9.000000   96.200000  291.300000  860.600000   56.100000   \n",
       "\n",
       "             temp          RH        wind        rain         area  \n",
       "count  517.000000  513.000000  517.000000  517.000000   517.000000  \n",
       "mean    18.889168   44.296296    4.017602    0.021663    12.847292  \n",
       "std      5.806625   16.318304    1.791653    0.295959    63.655818  \n",
       "min      2.200000   15.000000    0.400000    0.000000     0.000000  \n",
       "25%     15.500000   33.000000    2.700000    0.000000     0.000000  \n",
       "50%     19.300000   42.000000    4.000000    0.000000     0.520000  \n",
       "75%     22.800000   53.000000    4.900000    0.000000     6.570000  \n",
       "max     33.300000  100.000000    9.400000    6.400000  1090.840000  "
      ]
     },
     "execution_count": 6,
     "metadata": {},
     "output_type": "execute_result"
    }
   ],
   "source": [
    "ff.describe()"
   ]
  },
  {
   "cell_type": "code",
   "execution_count": 7,
   "id": "815ab52d",
   "metadata": {},
   "outputs": [],
   "source": [
    "%matplotlib inline"
   ]
  },
  {
   "cell_type": "code",
   "execution_count": 8,
   "id": "ebf81c27",
   "metadata": {},
   "outputs": [],
   "source": [
    "import matplotlib.pyplot as plt"
   ]
  },
  {
   "cell_type": "code",
   "execution_count": 9,
   "id": "d15fee70",
   "metadata": {},
   "outputs": [
    {
     "data": {
      "text/plain": [
       "array([[<AxesSubplot:title={'center':'X'}>,\n",
       "        <AxesSubplot:title={'center':'Y'}>,\n",
       "        <AxesSubplot:title={'center':'FFMC'}>],\n",
       "       [<AxesSubplot:title={'center':'DMC'}>,\n",
       "        <AxesSubplot:title={'center':'DC'}>,\n",
       "        <AxesSubplot:title={'center':'ISI'}>],\n",
       "       [<AxesSubplot:title={'center':'temp'}>,\n",
       "        <AxesSubplot:title={'center':'RH'}>,\n",
       "        <AxesSubplot:title={'center':'wind'}>],\n",
       "       [<AxesSubplot:title={'center':'rain'}>,\n",
       "        <AxesSubplot:title={'center':'area'}>, <AxesSubplot:>]],\n",
       "      dtype=object)"
      ]
     },
     "execution_count": 9,
     "metadata": {},
     "output_type": "execute_result"
    },
    {
     "data": {
      "image/png": "[encoded data removed]",
      "text/plain": [
       "<Figure size 2520x1800 with 12 Axes>"
      ]
     },
     "metadata": {
      "needs_background": "light"
     },
     "output_type": "display_data"
    }
   ],
   "source": [
    "ff.hist(bins=50, figsize=(35,25))"
   ]
  },
  {
   "cell_type": "markdown",
   "id": "52683aac",
   "metadata": {},
   "source": [
    "## Train- Test Data Splitting"
   ]
  },
  {
   "cell_type": "code",
   "execution_count": 10,
   "id": "dbf12263",
   "metadata": {},
   "outputs": [
    {
     "name": "stdout",
     "output_type": "stream",
     "text": [
      "The number of training values:387\n",
      "The number of test values:130\n",
      "\n"
     ]
    }
   ],
   "source": [
    "from sklearn.model_selection import train_test_split\n",
    "train_set,test_set=train_test_split(ff,test_size=0.25,random_state=42)\n",
    "print(f\"The number of training values:{len(train_set)}\\nThe number of test values:{len(test_set)}\\n\")"
   ]
  },
  {
   "cell_type": "code",
   "execution_count": 11,
   "id": "5520d173",
   "metadata": {},
   "outputs": [],
   "source": [
    "from sklearn.model_selection import StratifiedShuffleSplit\n",
    "s=StratifiedShuffleSplit(n_splits=1,test_size=0.25,random_state=42)\n",
    "for train_index,test_index in s.split(ff,ff['day']):\n",
    "    strat_train_values=ff.loc[train_index]\n",
    "    strat_test_values=ff.loc[test_index]"
   ]
  },
  {
   "cell_type": "code",
   "execution_count": 12,
   "id": "45c702f4",
   "metadata": {},
   "outputs": [
    {
     "data": {
      "text/html": [
       "<div>\n",
       "<style scoped>\n",
       "    .dataframe tbody tr th:only-of-type {\n",
       "        vertical-align: middle;\n",
       "    }\n",
       "\n",
       "    .dataframe tbody tr th {\n",
       "        vertical-align: top;\n",
       "    }\n",
       "\n",
       "    .dataframe thead th {\n",
       "        text-align: right;\n",
       "    }\n",
       "</style>\n",
       "<table border=\"1\" class=\"dataframe\">\n",
       "  <thead>\n",
       "    <tr style=\"text-align: right;\">\n",
       "      <th></th>\n",
       "      <th>X</th>\n",
       "      <th>Y</th>\n",
       "      <th>FFMC</th>\n",
       "      <th>DMC</th>\n",
       "      <th>DC</th>\n",
       "      <th>ISI</th>\n",
       "      <th>temp</th>\n",
       "      <th>RH</th>\n",
       "      <th>wind</th>\n",
       "      <th>rain</th>\n",
       "      <th>area</th>\n",
       "    </tr>\n",
       "  </thead>\n",
       "  <tbody>\n",
       "    <tr>\n",
       "      <th>count</th>\n",
       "      <td>130.000000</td>\n",
       "      <td>130.000000</td>\n",
       "      <td>130.000000</td>\n",
       "      <td>130.000000</td>\n",
       "      <td>130.000000</td>\n",
       "      <td>130.000000</td>\n",
       "      <td>130.000000</td>\n",
       "      <td>127.000000</td>\n",
       "      <td>130.000000</td>\n",
       "      <td>130.000000</td>\n",
       "      <td>130.000000</td>\n",
       "    </tr>\n",
       "    <tr>\n",
       "      <th>mean</th>\n",
       "      <td>4.515385</td>\n",
       "      <td>4.315385</td>\n",
       "      <td>90.665385</td>\n",
       "      <td>114.281538</td>\n",
       "      <td>534.080769</td>\n",
       "      <td>8.670000</td>\n",
       "      <td>18.353846</td>\n",
       "      <td>45.669291</td>\n",
       "      <td>4.209231</td>\n",
       "      <td>0.007692</td>\n",
       "      <td>6.677231</td>\n",
       "    </tr>\n",
       "    <tr>\n",
       "      <th>std</th>\n",
       "      <td>2.316890</td>\n",
       "      <td>1.113933</td>\n",
       "      <td>4.273276</td>\n",
       "      <td>69.815497</td>\n",
       "      <td>263.522651</td>\n",
       "      <td>3.840737</td>\n",
       "      <td>6.132328</td>\n",
       "      <td>16.287133</td>\n",
       "      <td>1.999087</td>\n",
       "      <td>0.072192</td>\n",
       "      <td>14.100628</td>\n",
       "    </tr>\n",
       "    <tr>\n",
       "      <th>min</th>\n",
       "      <td>1.000000</td>\n",
       "      <td>2.000000</td>\n",
       "      <td>63.500000</td>\n",
       "      <td>3.600000</td>\n",
       "      <td>15.300000</td>\n",
       "      <td>0.800000</td>\n",
       "      <td>4.600000</td>\n",
       "      <td>19.000000</td>\n",
       "      <td>0.400000</td>\n",
       "      <td>0.000000</td>\n",
       "      <td>0.000000</td>\n",
       "    </tr>\n",
       "    <tr>\n",
       "      <th>25%</th>\n",
       "      <td>2.000000</td>\n",
       "      <td>4.000000</td>\n",
       "      <td>90.200000</td>\n",
       "      <td>52.200000</td>\n",
       "      <td>376.750000</td>\n",
       "      <td>6.350000</td>\n",
       "      <td>15.200000</td>\n",
       "      <td>33.000000</td>\n",
       "      <td>2.700000</td>\n",
       "      <td>0.000000</td>\n",
       "      <td>0.000000</td>\n",
       "    </tr>\n",
       "    <tr>\n",
       "      <th>50%</th>\n",
       "      <td>4.000000</td>\n",
       "      <td>4.000000</td>\n",
       "      <td>91.650000</td>\n",
       "      <td>111.200000</td>\n",
       "      <td>647.100000</td>\n",
       "      <td>8.200000</td>\n",
       "      <td>18.500000</td>\n",
       "      <td>43.000000</td>\n",
       "      <td>4.000000</td>\n",
       "      <td>0.000000</td>\n",
       "      <td>1.350000</td>\n",
       "    </tr>\n",
       "    <tr>\n",
       "      <th>75%</th>\n",
       "      <td>6.000000</td>\n",
       "      <td>5.000000</td>\n",
       "      <td>92.775000</td>\n",
       "      <td>151.775000</td>\n",
       "      <td>715.100000</td>\n",
       "      <td>10.200000</td>\n",
       "      <td>21.675000</td>\n",
       "      <td>54.500000</td>\n",
       "      <td>5.400000</td>\n",
       "      <td>0.000000</td>\n",
       "      <td>6.535000</td>\n",
       "    </tr>\n",
       "    <tr>\n",
       "      <th>max</th>\n",
       "      <td>8.000000</td>\n",
       "      <td>6.000000</td>\n",
       "      <td>96.200000</td>\n",
       "      <td>290.000000</td>\n",
       "      <td>855.300000</td>\n",
       "      <td>20.000000</td>\n",
       "      <td>33.100000</td>\n",
       "      <td>99.000000</td>\n",
       "      <td>9.400000</td>\n",
       "      <td>0.800000</td>\n",
       "      <td>86.450000</td>\n",
       "    </tr>\n",
       "  </tbody>\n",
       "</table>\n",
       "</div>"
      ],
      "text/plain": [
       "                X           Y        FFMC         DMC          DC         ISI  \\\n",
       "count  130.000000  130.000000  130.000000  130.000000  130.000000  130.000000   \n",
       "mean     4.515385    4.315385   90.665385  114.281538  534.080769    8.670000   \n",
       "std      2.316890    1.113933    4.273276   69.815497  263.522651    3.840737   \n",
       "min      1.000000    2.000000   63.500000    3.600000   15.300000    0.800000   \n",
       "25%      2.000000    4.000000   90.200000   52.200000  376.750000    6.350000   \n",
       "50%      4.000000    4.000000   91.650000  111.200000  647.100000    8.200000   \n",
       "75%      6.000000    5.000000   92.775000  151.775000  715.100000   10.200000   \n",
       "max      8.000000    6.000000   96.200000  290.000000  855.300000   20.000000   \n",
       "\n",
       "             temp          RH        wind        rain        area  \n",
       "count  130.000000  127.000000  130.000000  130.000000  130.000000  \n",
       "mean    18.353846   45.669291    4.209231    0.007692    6.677231  \n",
       "std      6.132328   16.287133    1.999087    0.072192   14.100628  \n",
       "min      4.600000   19.000000    0.400000    0.000000    0.000000  \n",
       "25%     15.200000   33.000000    2.700000    0.000000    0.000000  \n",
       "50%     18.500000   43.000000    4.000000    0.000000    1.350000  \n",
       "75%     21.675000   54.500000    5.400000    0.000000    6.535000  \n",
       "max     33.100000   99.000000    9.400000    0.800000   86.450000  "
      ]
     },
     "execution_count": 12,
     "metadata": {},
     "output_type": "execute_result"
    }
   ],
   "source": [
    "strat_test_values.describe()"
   ]
  },
  {
   "cell_type": "code",
   "execution_count": 13,
   "id": "235ceb46",
   "metadata": {},
   "outputs": [
    {
     "data": {
      "text/plain": [
       "2.2    14\n",
       "5.4    14\n",
       "1.8    12\n",
       "2.7    12\n",
       "3.1    11\n",
       "4.9    10\n",
       "3.6    10\n",
       "4.0    10\n",
       "6.3     6\n",
       "4.5     5\n",
       "5.8     4\n",
       "7.6     4\n",
       "8.5     4\n",
       "8.0     4\n",
       "6.7     3\n",
       "7.2     2\n",
       "1.3     2\n",
       "0.4     1\n",
       "0.9     1\n",
       "9.4     1\n",
       "Name: wind, dtype: int64"
      ]
     },
     "execution_count": 13,
     "metadata": {},
     "output_type": "execute_result"
    }
   ],
   "source": [
    "strat_test_values['wind'].value_counts()"
   ]
  },
  {
   "cell_type": "code",
   "execution_count": 14,
   "id": "6ca36ccb",
   "metadata": {},
   "outputs": [
    {
     "data": {
      "text/plain": [
       "3.1    42\n",
       "4.0    41\n",
       "2.2    39\n",
       "4.9    38\n",
       "4.5    36\n",
       "2.7    32\n",
       "3.6    30\n",
       "5.4    27\n",
       "5.8    20\n",
       "1.8    19\n",
       "6.3    13\n",
       "1.3    12\n",
       "0.9    12\n",
       "7.6    10\n",
       "6.7     5\n",
       "8.5     4\n",
       "9.4     3\n",
       "7.2     2\n",
       "8.9     1\n",
       "8.0     1\n",
       "Name: wind, dtype: int64"
      ]
     },
     "execution_count": 14,
     "metadata": {},
     "output_type": "execute_result"
    }
   ],
   "source": [
    "strat_train_values['wind'].value_counts()"
   ]
  },
  {
   "cell_type": "code",
   "execution_count": 15,
   "id": "70637bf6",
   "metadata": {},
   "outputs": [],
   "source": [
    "ff=strat_train_values.copy()"
   ]
  },
  {
   "cell_type": "markdown",
   "id": "bc86a9d0",
   "metadata": {},
   "source": [
    "## Drawing correlations"
   ]
  },
  {
   "cell_type": "code",
   "execution_count": 16,
   "id": "0712546d",
   "metadata": {},
   "outputs": [],
   "source": [
    "corr_matrix=ff.corr()"
   ]
  },
  {
   "cell_type": "code",
   "execution_count": 17,
   "id": "08a809db",
   "metadata": {},
   "outputs": [
    {
     "data": {
      "text/plain": [
       "area    1.000000\n",
       "temp    0.105979\n",
       "DMC     0.083088\n",
       "X       0.069329\n",
       "DC      0.055794\n",
       "Y       0.043806\n",
       "FFMC    0.040574\n",
       "wind    0.017405\n",
       "ISI     0.008133\n",
       "rain   -0.008348\n",
       "RH     -0.077761\n",
       "Name: area, dtype: float64"
      ]
     },
     "execution_count": 17,
     "metadata": {},
     "output_type": "execute_result"
    }
   ],
   "source": [
    "corr_matrix['area'].sort_values(ascending=False)"
   ]
  },
  {
   "cell_type": "code",
   "execution_count": 18,
   "id": "6eb255f0",
   "metadata": {},
   "outputs": [
    {
     "data": {
      "text/plain": [
       "array([[<AxesSubplot:title={'center':'X'}>,\n",
       "        <AxesSubplot:title={'center':'Y'}>,\n",
       "        <AxesSubplot:title={'center':'FFMC'}>],\n",
       "       [<AxesSubplot:title={'center':'DMC'}>,\n",
       "        <AxesSubplot:title={'center':'DC'}>,\n",
       "        <AxesSubplot:title={'center':'ISI'}>],\n",
       "       [<AxesSubplot:title={'center':'temp'}>,\n",
       "        <AxesSubplot:title={'center':'RH'}>,\n",
       "        <AxesSubplot:title={'center':'wind'}>],\n",
       "       [<AxesSubplot:title={'center':'rain'}>,\n",
       "        <AxesSubplot:title={'center':'area'}>, <AxesSubplot:>]],\n",
       "      dtype=object)"
      ]
     },
     "execution_count": 18,
     "metadata": {},
     "output_type": "execute_result"
    },
    {
     "data": {
      "image/png": "[encoded data removed]",
      "text/plain": [
       "<Figure size 1440x1080 with 12 Axes>"
      ]
     },
     "metadata": {
      "needs_background": "light"
     },
     "output_type": "display_data"
    }
   ],
   "source": [
    "ff.hist(bins=50, figsize=(20,15))"
   ]
  },
  {
   "cell_type": "code",
   "execution_count": 19,
   "id": "5d38b69a",
   "metadata": {},
   "outputs": [
    {
     "data": {
      "text/plain": [
       "array([[<AxesSubplot:xlabel='area', ylabel='area'>,\n",
       "        <AxesSubplot:xlabel='temp', ylabel='area'>,\n",
       "        <AxesSubplot:xlabel='RH', ylabel='area'>,\n",
       "        <AxesSubplot:xlabel='rain', ylabel='area'>],\n",
       "       [<AxesSubplot:xlabel='area', ylabel='temp'>,\n",
       "        <AxesSubplot:xlabel='temp', ylabel='temp'>,\n",
       "        <AxesSubplot:xlabel='RH', ylabel='temp'>,\n",
       "        <AxesSubplot:xlabel='rain', ylabel='temp'>],\n",
       "       [<AxesSubplot:xlabel='area', ylabel='RH'>,\n",
       "        <AxesSubplot:xlabel='temp', ylabel='RH'>,\n",
       "        <AxesSubplot:xlabel='RH', ylabel='RH'>,\n",
       "        <AxesSubplot:xlabel='rain', ylabel='RH'>],\n",
       "       [<AxesSubplot:xlabel='area', ylabel='rain'>,\n",
       "        <AxesSubplot:xlabel='temp', ylabel='rain'>,\n",
       "        <AxesSubplot:xlabel='RH', ylabel='rain'>,\n",
       "        <AxesSubplot:xlabel='rain', ylabel='rain'>]], dtype=object)"
      ]
     },
     "execution_count": 19,
     "metadata": {},
     "output_type": "execute_result"
    },
    {
     "data": {
      "image/png": "[encoded data removed]",
      "text/plain": [
       "<Figure size 1080x720 with 16 Axes>"
      ]
     },
     "metadata": {
      "needs_background": "light"
     },
     "output_type": "display_data"
    }
   ],
   "source": [
    "from pandas.plotting import scatter_matrix\n",
    "att=[\"area\",\"temp\",\"RH\",\"rain\"]\n",
    "scatter_matrix(ff[att],figsize=(15,10))"
   ]
  },
  {
   "cell_type": "code",
   "execution_count": 20,
   "id": "9995062a",
   "metadata": {},
   "outputs": [
    {
     "data": {
      "text/plain": [
       "<AxesSubplot:xlabel='RH', ylabel='temp'>"
      ]
     },
     "execution_count": 20,
     "metadata": {},
     "output_type": "execute_result"
    },
    {
     "data": {
      "image/png": "[encoded data removed]",
      "text/plain": [
       "<Figure size 432x288 with 1 Axes>"
      ]
     },
     "metadata": {
      "needs_background": "light"
     },
     "output_type": "display_data"
    }
   ],
   "source": [
    "ff.plot(kind=\"scatter\",x=\"RH\",y=\"temp\",alpha=0.5)"
   ]
  },
  {
   "cell_type": "code",
   "execution_count": 21,
   "id": "c6a28819",
   "metadata": {},
   "outputs": [],
   "source": [
    "ff=strat_train_values.drop(\"area\", axis=1)\n",
    "ff_labels=strat_train_values[\"area\"].copy()"
   ]
  },
  {
   "cell_type": "markdown",
   "id": "3d474911",
   "metadata": {},
   "source": [
    "## Dealing with Missing Attributes"
   ]
  },
  {
   "cell_type": "code",
   "execution_count": 22,
   "id": "14c7814d",
   "metadata": {},
   "outputs": [
    {
     "name": "stdout",
     "output_type": "stream",
     "text": [
      "<class 'pandas.core.frame.DataFrame'>\n",
      "Int64Index: 387 entries, 89 to 347\n",
      "Data columns (total 12 columns):\n",
      " #   Column  Non-Null Count  Dtype  \n",
      "---  ------  --------------  -----  \n",
      " 0   X       387 non-null    int64  \n",
      " 1   Y       387 non-null    int64  \n",
      " 2   month   387 non-null    object \n",
      " 3   day     387 non-null    object \n",
      " 4   FFMC    387 non-null    float64\n",
      " 5   DMC     387 non-null    float64\n",
      " 6   DC      387 non-null    float64\n",
      " 7   ISI     387 non-null    float64\n",
      " 8   temp    387 non-null    float64\n",
      " 9   RH      386 non-null    float64\n",
      " 10  wind    387 non-null    float64\n",
      " 11  rain    387 non-null    float64\n",
      "dtypes: float64(8), int64(2), object(2)\n",
      "memory usage: 39.3+ KB\n"
     ]
    }
   ],
   "source": [
    "ff.info()"
   ]
  },
  {
   "cell_type": "code",
   "execution_count": 23,
   "id": "8e6cebd9",
   "metadata": {},
   "outputs": [
    {
     "data": {
      "text/html": [
       "<div>\n",
       "<style scoped>\n",
       "    .dataframe tbody tr th:only-of-type {\n",
       "        vertical-align: middle;\n",
       "    }\n",
       "\n",
       "    .dataframe tbody tr th {\n",
       "        vertical-align: top;\n",
       "    }\n",
       "\n",
       "    .dataframe thead th {\n",
       "        text-align: right;\n",
       "    }\n",
       "</style>\n",
       "<table border=\"1\" class=\"dataframe\">\n",
       "  <thead>\n",
       "    <tr style=\"text-align: right;\">\n",
       "      <th></th>\n",
       "      <th>X</th>\n",
       "      <th>Y</th>\n",
       "      <th>FFMC</th>\n",
       "      <th>DMC</th>\n",
       "      <th>DC</th>\n",
       "      <th>ISI</th>\n",
       "      <th>temp</th>\n",
       "      <th>RH</th>\n",
       "      <th>wind</th>\n",
       "      <th>rain</th>\n",
       "    </tr>\n",
       "  </thead>\n",
       "  <tbody>\n",
       "    <tr>\n",
       "      <th>count</th>\n",
       "      <td>387.000000</td>\n",
       "      <td>387.000000</td>\n",
       "      <td>387.000000</td>\n",
       "      <td>387.000000</td>\n",
       "      <td>387.000000</td>\n",
       "      <td>387.000000</td>\n",
       "      <td>387.000000</td>\n",
       "      <td>386.000000</td>\n",
       "      <td>387.000000</td>\n",
       "      <td>387.000000</td>\n",
       "    </tr>\n",
       "    <tr>\n",
       "      <th>mean</th>\n",
       "      <td>4.720930</td>\n",
       "      <td>4.294574</td>\n",
       "      <td>90.637726</td>\n",
       "      <td>109.727132</td>\n",
       "      <td>552.595607</td>\n",
       "      <td>9.139793</td>\n",
       "      <td>19.068992</td>\n",
       "      <td>43.844560</td>\n",
       "      <td>3.953230</td>\n",
       "      <td>0.026357</td>\n",
       "    </tr>\n",
       "    <tr>\n",
       "      <th>std</th>\n",
       "      <td>2.313433</td>\n",
       "      <td>1.267794</td>\n",
       "      <td>5.884825</td>\n",
       "      <td>62.042448</td>\n",
       "      <td>242.831679</td>\n",
       "      <td>4.775436</td>\n",
       "      <td>5.689971</td>\n",
       "      <td>16.324364</td>\n",
       "      <td>1.714358</td>\n",
       "      <td>0.339503</td>\n",
       "    </tr>\n",
       "    <tr>\n",
       "      <th>min</th>\n",
       "      <td>1.000000</td>\n",
       "      <td>2.000000</td>\n",
       "      <td>18.700000</td>\n",
       "      <td>1.100000</td>\n",
       "      <td>7.900000</td>\n",
       "      <td>0.000000</td>\n",
       "      <td>2.200000</td>\n",
       "      <td>15.000000</td>\n",
       "      <td>0.900000</td>\n",
       "      <td>0.000000</td>\n",
       "    </tr>\n",
       "    <tr>\n",
       "      <th>25%</th>\n",
       "      <td>3.000000</td>\n",
       "      <td>4.000000</td>\n",
       "      <td>90.300000</td>\n",
       "      <td>70.250000</td>\n",
       "      <td>446.550000</td>\n",
       "      <td>6.500000</td>\n",
       "      <td>15.750000</td>\n",
       "      <td>32.250000</td>\n",
       "      <td>2.700000</td>\n",
       "      <td>0.000000</td>\n",
       "    </tr>\n",
       "    <tr>\n",
       "      <th>50%</th>\n",
       "      <td>4.000000</td>\n",
       "      <td>4.000000</td>\n",
       "      <td>91.600000</td>\n",
       "      <td>108.000000</td>\n",
       "      <td>665.600000</td>\n",
       "      <td>8.400000</td>\n",
       "      <td>19.600000</td>\n",
       "      <td>41.000000</td>\n",
       "      <td>4.000000</td>\n",
       "      <td>0.000000</td>\n",
       "    </tr>\n",
       "    <tr>\n",
       "      <th>75%</th>\n",
       "      <td>7.000000</td>\n",
       "      <td>5.000000</td>\n",
       "      <td>92.900000</td>\n",
       "      <td>141.150000</td>\n",
       "      <td>711.450000</td>\n",
       "      <td>11.300000</td>\n",
       "      <td>23.000000</td>\n",
       "      <td>51.000000</td>\n",
       "      <td>4.900000</td>\n",
       "      <td>0.000000</td>\n",
       "    </tr>\n",
       "    <tr>\n",
       "      <th>max</th>\n",
       "      <td>9.000000</td>\n",
       "      <td>9.000000</td>\n",
       "      <td>96.200000</td>\n",
       "      <td>291.300000</td>\n",
       "      <td>860.600000</td>\n",
       "      <td>56.100000</td>\n",
       "      <td>33.300000</td>\n",
       "      <td>100.000000</td>\n",
       "      <td>9.400000</td>\n",
       "      <td>6.400000</td>\n",
       "    </tr>\n",
       "  </tbody>\n",
       "</table>\n",
       "</div>"
      ],
      "text/plain": [
       "                X           Y        FFMC         DMC          DC         ISI  \\\n",
       "count  387.000000  387.000000  387.000000  387.000000  387.000000  387.000000   \n",
       "mean     4.720930    4.294574   90.637726  109.727132  552.595607    9.139793   \n",
       "std      2.313433    1.267794    5.884825   62.042448  242.831679    4.775436   \n",
       "min      1.000000    2.000000   18.700000    1.100000    7.900000    0.000000   \n",
       "25%      3.000000    4.000000   90.300000   70.250000  446.550000    6.500000   \n",
       "50%      4.000000    4.000000   91.600000  108.000000  665.600000    8.400000   \n",
       "75%      7.000000    5.000000   92.900000  141.150000  711.450000   11.300000   \n",
       "max      9.000000    9.000000   96.200000  291.300000  860.600000   56.100000   \n",
       "\n",
       "             temp          RH        wind        rain  \n",
       "count  387.000000  386.000000  387.000000  387.000000  \n",
       "mean    19.068992   43.844560    3.953230    0.026357  \n",
       "std      5.689971   16.324364    1.714358    0.339503  \n",
       "min      2.200000   15.000000    0.900000    0.000000  \n",
       "25%     15.750000   32.250000    2.700000    0.000000  \n",
       "50%     19.600000   41.000000    4.000000    0.000000  \n",
       "75%     23.000000   51.000000    4.900000    0.000000  \n",
       "max     33.300000  100.000000    9.400000    6.400000  "
      ]
     },
     "execution_count": 23,
     "metadata": {},
     "output_type": "execute_result"
    }
   ],
   "source": [
    "ff.describe()"
   ]
  },
  {
   "cell_type": "code",
   "execution_count": 24,
   "id": "3b238caf",
   "metadata": {},
   "outputs": [],
   "source": [
    "median=ff['RH'].median()"
   ]
  },
  {
   "cell_type": "code",
   "execution_count": 25,
   "id": "dac117ae",
   "metadata": {},
   "outputs": [
    {
     "data": {
      "text/plain": [
       "41.0"
      ]
     },
     "execution_count": 25,
     "metadata": {},
     "output_type": "execute_result"
    }
   ],
   "source": [
    "median"
   ]
  },
  {
   "cell_type": "code",
   "execution_count": 26,
   "id": "8c64161b",
   "metadata": {},
   "outputs": [
    {
     "data": {
      "text/plain": [
       "89     25.0\n",
       "222    46.0\n",
       "232    43.0\n",
       "227    34.0\n",
       "152    43.0\n",
       "       ... \n",
       "395    62.0\n",
       "22     44.0\n",
       "488    71.0\n",
       "334    51.0\n",
       "347    75.0\n",
       "Name: RH, Length: 387, dtype: float64"
      ]
     },
     "execution_count": 26,
     "metadata": {},
     "output_type": "execute_result"
    }
   ],
   "source": [
    "ff[\"RH\"].fillna(median)"
   ]
  },
  {
   "cell_type": "code",
   "execution_count": 27,
   "id": "ad5d8373",
   "metadata": {},
   "outputs": [
    {
     "data": {
      "text/plain": [
       "(387, 12)"
      ]
     },
     "execution_count": 27,
     "metadata": {},
     "output_type": "execute_result"
    }
   ],
   "source": [
    "ff.shape"
   ]
  },
  {
   "cell_type": "code",
   "execution_count": 28,
   "id": "71c9fd12",
   "metadata": {},
   "outputs": [],
   "source": [
    "ff.drop(\"day\",axis=1,inplace=True)"
   ]
  },
  {
   "cell_type": "code",
   "execution_count": 29,
   "id": "a5a4233d",
   "metadata": {},
   "outputs": [],
   "source": [
    "ff.drop(\"month\",axis=1,inplace=True)"
   ]
  },
  {
   "cell_type": "code",
   "execution_count": 30,
   "id": "2223050f",
   "metadata": {},
   "outputs": [
    {
     "data": {
      "text/plain": [
       "(387, 10)"
      ]
     },
     "execution_count": 30,
     "metadata": {},
     "output_type": "execute_result"
    }
   ],
   "source": [
    "ff.shape"
   ]
  },
  {
   "cell_type": "code",
   "execution_count": 31,
   "id": "4c086ce9",
   "metadata": {},
   "outputs": [
    {
     "data": {
      "text/plain": [
       "SimpleImputer(strategy='median')"
      ]
     },
     "execution_count": 31,
     "metadata": {},
     "output_type": "execute_result"
    }
   ],
   "source": [
    "from sklearn.impute import SimpleImputer\n",
    "imp=SimpleImputer(strategy='median')\n",
    "imp.fit(ff)"
   ]
  },
  {
   "cell_type": "code",
   "execution_count": 32,
   "id": "2b5209b2",
   "metadata": {},
   "outputs": [
    {
     "data": {
      "text/plain": [
       "array([  4. ,   4. ,  91.6, 108. , 665.6,   8.4,  19.6,  41. ,   4. ,\n",
       "         0. ])"
      ]
     },
     "execution_count": 32,
     "metadata": {},
     "output_type": "execute_result"
    }
   ],
   "source": [
    "imp.statistics_"
   ]
  },
  {
   "cell_type": "code",
   "execution_count": 33,
   "id": "6128fa98",
   "metadata": {},
   "outputs": [],
   "source": [
    "x=imp.transform(ff)"
   ]
  },
  {
   "cell_type": "code",
   "execution_count": 34,
   "id": "8ff1e792",
   "metadata": {},
   "outputs": [],
   "source": [
    "new_ff=pd.DataFrame(x,columns=ff.columns)"
   ]
  },
  {
   "cell_type": "code",
   "execution_count": 35,
   "id": "9d1d3046",
   "metadata": {},
   "outputs": [
    {
     "name": "stdout",
     "output_type": "stream",
     "text": [
      "<class 'pandas.core.frame.DataFrame'>\n",
      "RangeIndex: 387 entries, 0 to 386\n",
      "Data columns (total 10 columns):\n",
      " #   Column  Non-Null Count  Dtype  \n",
      "---  ------  --------------  -----  \n",
      " 0   X       387 non-null    float64\n",
      " 1   Y       387 non-null    float64\n",
      " 2   FFMC    387 non-null    float64\n",
      " 3   DMC     387 non-null    float64\n",
      " 4   DC      387 non-null    float64\n",
      " 5   ISI     387 non-null    float64\n",
      " 6   temp    387 non-null    float64\n",
      " 7   RH      387 non-null    float64\n",
      " 8   wind    387 non-null    float64\n",
      " 9   rain    387 non-null    float64\n",
      "dtypes: float64(10)\n",
      "memory usage: 30.4 KB\n"
     ]
    }
   ],
   "source": [
    "new_ff.info()"
   ]
  },
  {
   "cell_type": "code",
   "execution_count": 36,
   "id": "5542e071",
   "metadata": {},
   "outputs": [
    {
     "data": {
      "text/html": [
       "<div>\n",
       "<style scoped>\n",
       "    .dataframe tbody tr th:only-of-type {\n",
       "        vertical-align: middle;\n",
       "    }\n",
       "\n",
       "    .dataframe tbody tr th {\n",
       "        vertical-align: top;\n",
       "    }\n",
       "\n",
       "    .dataframe thead th {\n",
       "        text-align: right;\n",
       "    }\n",
       "</style>\n",
       "<table border=\"1\" class=\"dataframe\">\n",
       "  <thead>\n",
       "    <tr style=\"text-align: right;\">\n",
       "      <th></th>\n",
       "      <th>X</th>\n",
       "      <th>Y</th>\n",
       "      <th>FFMC</th>\n",
       "      <th>DMC</th>\n",
       "      <th>DC</th>\n",
       "      <th>ISI</th>\n",
       "      <th>temp</th>\n",
       "      <th>RH</th>\n",
       "      <th>wind</th>\n",
       "      <th>rain</th>\n",
       "    </tr>\n",
       "  </thead>\n",
       "  <tbody>\n",
       "    <tr>\n",
       "      <th>count</th>\n",
       "      <td>387.000000</td>\n",
       "      <td>387.000000</td>\n",
       "      <td>387.000000</td>\n",
       "      <td>387.000000</td>\n",
       "      <td>387.000000</td>\n",
       "      <td>387.000000</td>\n",
       "      <td>387.000000</td>\n",
       "      <td>387.000000</td>\n",
       "      <td>387.000000</td>\n",
       "      <td>387.000000</td>\n",
       "    </tr>\n",
       "    <tr>\n",
       "      <th>mean</th>\n",
       "      <td>4.720930</td>\n",
       "      <td>4.294574</td>\n",
       "      <td>90.637726</td>\n",
       "      <td>109.727132</td>\n",
       "      <td>552.595607</td>\n",
       "      <td>9.139793</td>\n",
       "      <td>19.068992</td>\n",
       "      <td>43.837209</td>\n",
       "      <td>3.953230</td>\n",
       "      <td>0.026357</td>\n",
       "    </tr>\n",
       "    <tr>\n",
       "      <th>std</th>\n",
       "      <td>2.313433</td>\n",
       "      <td>1.267794</td>\n",
       "      <td>5.884825</td>\n",
       "      <td>62.042448</td>\n",
       "      <td>242.831679</td>\n",
       "      <td>4.775436</td>\n",
       "      <td>5.689971</td>\n",
       "      <td>16.303846</td>\n",
       "      <td>1.714358</td>\n",
       "      <td>0.339503</td>\n",
       "    </tr>\n",
       "    <tr>\n",
       "      <th>min</th>\n",
       "      <td>1.000000</td>\n",
       "      <td>2.000000</td>\n",
       "      <td>18.700000</td>\n",
       "      <td>1.100000</td>\n",
       "      <td>7.900000</td>\n",
       "      <td>0.000000</td>\n",
       "      <td>2.200000</td>\n",
       "      <td>15.000000</td>\n",
       "      <td>0.900000</td>\n",
       "      <td>0.000000</td>\n",
       "    </tr>\n",
       "    <tr>\n",
       "      <th>25%</th>\n",
       "      <td>3.000000</td>\n",
       "      <td>4.000000</td>\n",
       "      <td>90.300000</td>\n",
       "      <td>70.250000</td>\n",
       "      <td>446.550000</td>\n",
       "      <td>6.500000</td>\n",
       "      <td>15.750000</td>\n",
       "      <td>32.500000</td>\n",
       "      <td>2.700000</td>\n",
       "      <td>0.000000</td>\n",
       "    </tr>\n",
       "    <tr>\n",
       "      <th>50%</th>\n",
       "      <td>4.000000</td>\n",
       "      <td>4.000000</td>\n",
       "      <td>91.600000</td>\n",
       "      <td>108.000000</td>\n",
       "      <td>665.600000</td>\n",
       "      <td>8.400000</td>\n",
       "      <td>19.600000</td>\n",
       "      <td>41.000000</td>\n",
       "      <td>4.000000</td>\n",
       "      <td>0.000000</td>\n",
       "    </tr>\n",
       "    <tr>\n",
       "      <th>75%</th>\n",
       "      <td>7.000000</td>\n",
       "      <td>5.000000</td>\n",
       "      <td>92.900000</td>\n",
       "      <td>141.150000</td>\n",
       "      <td>711.450000</td>\n",
       "      <td>11.300000</td>\n",
       "      <td>23.000000</td>\n",
       "      <td>51.000000</td>\n",
       "      <td>4.900000</td>\n",
       "      <td>0.000000</td>\n",
       "    </tr>\n",
       "    <tr>\n",
       "      <th>max</th>\n",
       "      <td>9.000000</td>\n",
       "      <td>9.000000</td>\n",
       "      <td>96.200000</td>\n",
       "      <td>291.300000</td>\n",
       "      <td>860.600000</td>\n",
       "      <td>56.100000</td>\n",
       "      <td>33.300000</td>\n",
       "      <td>100.000000</td>\n",
       "      <td>9.400000</td>\n",
       "      <td>6.400000</td>\n",
       "    </tr>\n",
       "  </tbody>\n",
       "</table>\n",
       "</div>"
      ],
      "text/plain": [
       "                X           Y        FFMC         DMC          DC         ISI  \\\n",
       "count  387.000000  387.000000  387.000000  387.000000  387.000000  387.000000   \n",
       "mean     4.720930    4.294574   90.637726  109.727132  552.595607    9.139793   \n",
       "std      2.313433    1.267794    5.884825   62.042448  242.831679    4.775436   \n",
       "min      1.000000    2.000000   18.700000    1.100000    7.900000    0.000000   \n",
       "25%      3.000000    4.000000   90.300000   70.250000  446.550000    6.500000   \n",
       "50%      4.000000    4.000000   91.600000  108.000000  665.600000    8.400000   \n",
       "75%      7.000000    5.000000   92.900000  141.150000  711.450000   11.300000   \n",
       "max      9.000000    9.000000   96.200000  291.300000  860.600000   56.100000   \n",
       "\n",
       "             temp          RH        wind        rain  \n",
       "count  387.000000  387.000000  387.000000  387.000000  \n",
       "mean    19.068992   43.837209    3.953230    0.026357  \n",
       "std      5.689971   16.303846    1.714358    0.339503  \n",
       "min      2.200000   15.000000    0.900000    0.000000  \n",
       "25%     15.750000   32.500000    2.700000    0.000000  \n",
       "50%     19.600000   41.000000    4.000000    0.000000  \n",
       "75%     23.000000   51.000000    4.900000    0.000000  \n",
       "max     33.300000  100.000000    9.400000    6.400000  "
      ]
     },
     "execution_count": 36,
     "metadata": {},
     "output_type": "execute_result"
    }
   ],
   "source": [
    "new_ff.describe()"
   ]
  },
  {
   "cell_type": "markdown",
   "id": "490b1b06",
   "metadata": {},
   "source": [
    "## Designing a Pipeline\n"
   ]
  },
  {
   "cell_type": "code",
   "execution_count": 37,
   "id": "9c9a579b",
   "metadata": {},
   "outputs": [],
   "source": [
    "from sklearn.pipeline import Pipeline\n",
    "from sklearn.preprocessing import StandardScaler\n",
    "my_pipeline=Pipeline([('imp',SimpleImputer(strategy='median')),('std_sc',StandardScaler())])\n"
   ]
  },
  {
   "cell_type": "code",
   "execution_count": 38,
   "id": "26aa73b8",
   "metadata": {},
   "outputs": [],
   "source": [
    "ff_new_tr=my_pipeline.fit_transform(ff)"
   ]
  },
  {
   "cell_type": "code",
   "execution_count": 39,
   "id": "4092c76c",
   "metadata": {},
   "outputs": [
    {
     "data": {
      "text/plain": [
       "array([[ 0.55360401,  0.55714054,  0.18074438, ..., -1.15688003,\n",
       "         0.55297402, -0.07773343],\n",
       "       [-0.31203135, -1.02244472, -0.51686473, ...,  0.13282697,\n",
       "         1.07863136, -0.07773343],\n",
       "       [ 0.55360401, -0.23265209,  0.06164038, ..., -0.05141689,\n",
       "        -0.73196615, -0.07773343],\n",
       "       ...,\n",
       "       [-0.31203135, -0.23265209,  0.7592495 , ...,  1.66819244,\n",
       "         2.12994605, -0.07773343],\n",
       "       [-1.1776667 , -1.02244472,  0.16372952, ...,  0.43990006,\n",
       "         0.84500587, -0.07773343],\n",
       "       [ 0.12078633, -0.23265209,  0.2488038 , ...,  1.91385092,\n",
       "        -0.20630881, -0.07773343]])"
      ]
     },
     "execution_count": 39,
     "metadata": {},
     "output_type": "execute_result"
    }
   ],
   "source": [
    "ff_new_tr"
   ]
  },
  {
   "cell_type": "markdown",
   "id": "eff77577",
   "metadata": {},
   "source": [
    "## Appropriate Model Selection for Wildlife Conservation Department"
   ]
  },
  {
   "cell_type": "code",
   "execution_count": 45,
   "id": "a5fc6e63",
   "metadata": {},
   "outputs": [
    {
     "data": {
      "text/plain": [
       "LinearRegression()"
      ]
     },
     "execution_count": 45,
     "metadata": {},
     "output_type": "execute_result"
    }
   ],
   "source": [
    "from sklearn.linear_model import LinearRegression\n",
    "from sklearn.tree import DecisionTreeRegressor\n",
    "from sklearn.ensemble import RandomForestRegressor\n",
    "from sklearn.linear_model import LogisticRegression\n",
    "from sklearn.svm import SVC\n",
    "#model=SVC()\n",
    "#model=LogisticRegression()\n",
    "#model=RandomForestRegressor()\n",
    "#model=DecisionTreeRegressor()\n",
    "model=LinearRegression()\n",
    "model.fit(ff_new_tr,ff_labels)\n"
   ]
  },
  {
   "cell_type": "code",
   "execution_count": 46,
   "id": "dd1de2f9",
   "metadata": {},
   "outputs": [],
   "source": [
    "initial_data=ff.iloc[:5]"
   ]
  },
  {
   "cell_type": "code",
   "execution_count": 47,
   "id": "a28bb308",
   "metadata": {},
   "outputs": [],
   "source": [
    "initial_labels=ff_labels.iloc[:5]"
   ]
  },
  {
   "cell_type": "code",
   "execution_count": 48,
   "id": "889273a3",
   "metadata": {},
   "outputs": [],
   "source": [
    "final_data=my_pipeline.transform(initial_data)"
   ]
  },
  {
   "cell_type": "code",
   "execution_count": 49,
   "id": "62863714",
   "metadata": {},
   "outputs": [
    {
     "data": {
      "text/plain": [
       "array([18.34100436,  6.88203956, 18.6416919 , 23.58124251,  8.39109902])"
      ]
     },
     "execution_count": 49,
     "metadata": {},
     "output_type": "execute_result"
    }
   ],
   "source": [
    "model.predict(final_data)"
   ]
  },
  {
   "cell_type": "code",
   "execution_count": 50,
   "id": "4688392d",
   "metadata": {},
   "outputs": [
    {
     "data": {
      "text/plain": [
       "[0.0, 36.85, 103.39, 58.3, 1.43]"
      ]
     },
     "execution_count": 50,
     "metadata": {},
     "output_type": "execute_result"
    }
   ],
   "source": [
    "list(initial_labels)"
   ]
  },
  {
   "cell_type": "markdown",
   "id": "a32555a4",
   "metadata": {},
   "source": [
    "## Model Assessment"
   ]
  },
  {
   "cell_type": "code",
   "execution_count": 51,
   "id": "f4d0b479",
   "metadata": {},
   "outputs": [],
   "source": [
    "from sklearn.metrics import mean_squared_error\n",
    "import numpy as np\n",
    "ff_predictions=model.predict(ff_new_tr)\n",
    "mse=mean_squared_error(ff_labels,ff_predictions)\n",
    "rmse=np.sqrt(mse)\n"
   ]
  },
  {
   "cell_type": "code",
   "execution_count": 52,
   "id": "d8bda491",
   "metadata": {},
   "outputs": [
    {
     "data": {
      "text/plain": [
       "72.00761174539458"
      ]
     },
     "execution_count": 52,
     "metadata": {},
     "output_type": "execute_result"
    }
   ],
   "source": [
    "rmse"
   ]
  },
  {
   "cell_type": "markdown",
   "id": "fbd4d7df",
   "metadata": {},
   "source": [
    "## Cross Validation"
   ]
  },
  {
   "cell_type": "code",
   "execution_count": 53,
   "id": "d1c0e1b5",
   "metadata": {},
   "outputs": [],
   "source": [
    "import numpy as np\n",
    "from sklearn.model_selection import cross_val_score\n",
    "cvs=cross_val_score(model,ff_new_tr,ff_labels,scoring=\"neg_mean_squared_error\",cv=10)\n",
    "rmse=np.sqrt(-cvs)\n"
   ]
  },
  {
   "cell_type": "code",
   "execution_count": 54,
   "id": "3c2db8bf",
   "metadata": {},
   "outputs": [
    {
     "data": {
      "text/plain": [
       "array([ 43.52635925, 119.66887456,  18.12539113,  26.76700311,\n",
       "        15.04606725,  32.1190454 ,  20.87096167,  43.98960078,\n",
       "        20.28581789, 181.18792961])"
      ]
     },
     "execution_count": 54,
     "metadata": {},
     "output_type": "execute_result"
    }
   ],
   "source": [
    "rmse"
   ]
  },
  {
   "cell_type": "code",
   "execution_count": 55,
   "id": "52e77f68",
   "metadata": {},
   "outputs": [],
   "source": [
    "def print_scores(cvs):\n",
    "    print(\"CVS:\",cvs)\n",
    "    print(\"Mean:\",cvs.mean())\n",
    "    print(\"Standard Deviation:\",cvs.std())"
   ]
  },
  {
   "cell_type": "code",
   "execution_count": 56,
   "id": "ace81d5f",
   "metadata": {},
   "outputs": [
    {
     "name": "stdout",
     "output_type": "stream",
     "text": [
      "CVS: [ 43.52635925 119.66887456  18.12539113  26.76700311  15.04606725\n",
      "  32.1190454   20.87096167  43.98960078  20.28581789 181.18792961]\n",
      "Mean: 52.15870506545322\n",
      "Standard Deviation: 51.888495915767855\n"
     ]
    }
   ],
   "source": [
    "print_scores(rmse)"
   ]
  },
  {
   "cell_type": "code",
   "execution_count": 57,
   "id": "ca8ee8c8",
   "metadata": {},
   "outputs": [
    {
     "data": {
      "text/plain": [
       "['Forest_Fires.joblib']"
      ]
     },
     "execution_count": 57,
     "metadata": {},
     "output_type": "execute_result"
    }
   ],
   "source": [
    "from joblib import dump,load\n",
    "dump(model,'Forest_Fires.joblib')"
   ]
  },
  {
   "cell_type": "markdown",
   "id": "68c1453f",
   "metadata": {},
   "source": [
    "## Model Implementation on Test Data"
   ]
  },
  {
   "cell_type": "code",
   "execution_count": 58,
   "id": "3d4f1030",
   "metadata": {},
   "outputs": [],
   "source": [
    "test_data=strat_test_values.drop(\"day\",axis=1,inplace=True)"
   ]
  },
  {
   "cell_type": "code",
   "execution_count": 59,
   "id": "5798a17f",
   "metadata": {},
   "outputs": [],
   "source": [
    "test_data=strat_test_values.drop(\"month\",axis=1,inplace=True)"
   ]
  },
  {
   "cell_type": "code",
   "execution_count": 60,
   "id": "b71ffff0",
   "metadata": {},
   "outputs": [],
   "source": [
    "test_data=strat_test_values.drop(\"area\",axis=1)\n",
    "test_labels=strat_test_values[\"area\"].copy()\n",
    "final_test_data=my_pipeline.transform(test_data)\n",
    "final_predictions=model.predict(final_test_data)\n",
    "final_rmse=np.sqrt(mean_squared_error(final_predictions,test_labels))"
   ]
  },
  {
   "cell_type": "code",
   "execution_count": 61,
   "id": "5deafd7f",
   "metadata": {},
   "outputs": [
    {
     "data": {
      "text/plain": [
       "18.416176886634254"
      ]
     },
     "execution_count": 61,
     "metadata": {},
     "output_type": "execute_result"
    }
   ],
   "source": [
    "final_rmse"
   ]
  },
  {
   "cell_type": "code",
   "execution_count": 62,
   "id": "3bceb550",
   "metadata": {},
   "outputs": [
    {
     "data": {
      "text/plain": [
       "array([ 0.55360401,  0.55714054,  0.18074438, -1.19309978, -1.94540658,\n",
       "       -0.28092257, -0.29370145, -1.15688003,  0.55297402, -0.07773343])"
      ]
     },
     "execution_count": 62,
     "metadata": {},
     "output_type": "execute_result"
    }
   ],
   "source": [
    "final_data[0]"
   ]
  }
 ],
 "metadata": {
  "kernelspec": {
   "display_name": "Python 3 (ipykernel)",
   "language": "python",
   "name": "python3"
  },
  "language_info": {
   "codemirror_mode": {
    "name": "ipython",
    "version": 3
   },
   "file_extension": ".py",
   "mimetype": "text/x-python",
   "name": "python",
   "nbconvert_exporter": "python",
   "pygments_lexer": "ipython3",
   "version": "3.9.1"
  }
 },
 "nbformat": 4,
 "nbformat_minor": 5
}
